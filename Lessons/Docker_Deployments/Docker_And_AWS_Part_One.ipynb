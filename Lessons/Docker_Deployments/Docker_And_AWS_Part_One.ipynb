{
 "cells": [
  {
   "cell_type": "markdown",
   "metadata": {},
   "source": [
    "# Docker and AWS Part One"
   ]
  },
  {
   "cell_type": "markdown",
   "metadata": {},
   "source": [
    "### Steps for deploying a ML model:\n",
    "1. Create and train a machine learning model (final model)\n",
    "    - Save the trained model and preprocessing steps into pickle file\n",
    "2. Create a flask/django/etc. API with a route for the model or models\n",
    "    - Framework used will varry based on project/use\n",
    "3. Dockerize the API\n",
    "4. Deploy docker container to AWS"
   ]
  },
  {
   "cell_type": "markdown",
   "metadata": {},
   "source": [
    "## STEP ONE: Train and MNIST model with Keras and save it as an .h5 file"
   ]
  },
  {
   "cell_type": "code",
   "execution_count": null,
   "metadata": {},
   "outputs": [],
   "source": [
    "import keras\n",
    "from keras import models\n",
    "from keras import layers\n",
    "from keras import backend as K\n",
    "from keras.datasets import mnist\n",
    "\n",
    "batch_size = 128\n",
    "num_classes = 10\n",
    "epochs = 1\n",
    "\n",
    "# MNIST Data\n",
    "mnist_data = mnist.load_data()\n",
    "(x_train, y_train), (x_test, y_test) = mnist_data\n",
    "\n",
    "# Input image dimensions\n",
    "img_rows, img_cols = 28, 28\n",
    "\n",
    "# Format data shape\n",
    "if K.image_data_format() == 'channels_first':\n",
    "    x_train = x_train.reshape(x_train.shape[0], 1, img_rows, img_cols)\n",
    "    x_test = x_test.reshape(x_test.shape[0], 1, img_rows, img_cols)\n",
    "    input_shape = (1, img_rows, img_cols)\n",
    "else:\n",
    "    x_train = x_train.reshape(x_train.shape[0], img_rows, img_cols, 1)\n",
    "    x_test = x_test.reshape(x_test.shape[0], img_rows, img_cols, 1)\n",
    "    input_shape = (img_rows, img_cols, 1)\n",
    "    \n",
    "# Normalize input shape and input type\n",
    "x_train = x_train.astype('float32')\n",
    "x_test = x_test.astype('float32')\n",
    "x_train /= 255\n",
    "x_test /= 255\n",
    "\n",
    "# Convert class vectors to binary class matrices\n",
    "y_train = keras.utils.to_categorical(y_train, num_classes)\n",
    "y_test = keras.utils.to_categorical(y_test, num_classes)"
   ]
  },
  {
   "cell_type": "code",
   "execution_count": null,
   "metadata": {},
   "outputs": [],
   "source": [
    "# Create sequential CNN model\n",
    "model = models.Sequential([\n",
    "    layers.Conv2D(32, kernel_size=(3, 3), activation='relu', input_shape=input_shape),\n",
    "    layers.Conv2D(64, (3,3), activation='relu'),\n",
    "    layers.MaxPooling2D(pool_size=(2,2)),\n",
    "    layers.Dropout(0.25),\n",
    "    layers.Flatten(),\n",
    "    layers.Dense(128, activation='relu'),\n",
    "    layers.Dropout(0.5),\n",
    "    layers.Dense(num_classes, activation='softmax')\n",
    "])\n",
    "\n",
    "# Compile and train cnn mnist model\n",
    "model.compile(loss=keras.losses.categorical_crossentropy, optimizer=keras.optimizers.Adadelta(), metrics=['accuracy'])\n",
    "model.fit(x_train, y_train, batch_size=batch_size, epochs=epochs, verbose=1, validation_data=(x_test, y_test))"
   ]
  },
  {
   "cell_type": "code",
   "execution_count": null,
   "metadata": {},
   "outputs": [],
   "source": [
    "# Save the model a .h5 file and then delete mnist model from memory\n",
    "model.save('mnist_cnn.h5')  \n",
    "del model "
   ]
  },
  {
   "cell_type": "markdown",
   "metadata": {},
   "source": [
    "## STEP TWO: Create a Flask API for the saved model"
   ]
  },
  {
   "cell_type": "code",
   "execution_count": null,
   "metadata": {},
   "outputs": [],
   "source": [
    "import werkzeug\n",
    "werkzeug.cached_property = werkzeug.utils.cached_property\n",
    "from keras.preprocessing.image import img_to_array\n",
    "from keras.models import load_model\n",
    "from flask_restplus import Api, Resource, fields\n",
    "from flask import Flask, request, jsonify\n",
    "import numpy as np\n",
    "from werkzeug.datastructures import FileStorage\n",
    "from PIL import Image\n",
    "from keras.models import model_from_json\n",
    "import tensorflow as tf\n",
    "\n",
    "app = Flask(__name__)\n",
    "api = Api(app, version='1.0', title='MNIST Classification', description='CNN for MNIST')\n",
    "name_space = api.namespace('Make_School', description='Methods')\n",
    "\n",
    "single_parser = api.parser()\n",
    "single_parser.add_argument('file', location='files', type=FileStorage, required=True)\n",
    "\n",
    "model = load_model('Docker_Deployments/mnist_cnn.h5')\n",
    "graph = tf.get_default_graph()\n",
    "\n",
    "@name_space.route('/prediction')\n",
    "class CNNPrediction(Resource):\n",
    "    @api.doc(parser=single_parser, description='Upload an MNIST image')\n",
    "    def post(self):\n",
    "        # Load image file from user as a PIL image\n",
    "        args = single_parser.parse_args()\n",
    "        image_file = args.file\n",
    "        img = Image.open(image_file)\n",
    "        # Perform data preprocessing in image\n",
    "        image_red = img.resize((28,28))\n",
    "        image = img_to_array(image_red)\n",
    "        x = image.reshape(1, 28, 28, 1)\n",
    "        x = x/255\n",
    "        # Make and return the prediction to the user\n",
    "        with graph.as_default():\n",
    "            out = model.predict(x)\n",
    "        return {'prediction': str(np.argmax(out[0]))}\n",
    "    \n",
    "if __name__ == '__main__':\n",
    "    app.run(host='0.0.0.0', port=8000)"
   ]
  },
  {
   "cell_type": "code",
   "execution_count": null,
   "metadata": {},
   "outputs": [],
   "source": []
  }
 ],
 "metadata": {
  "kernelspec": {
   "display_name": "Python 3",
   "language": "python",
   "name": "python3"
  },
  "language_info": {
   "codemirror_mode": {
    "name": "ipython",
    "version": 3
   },
   "file_extension": ".py",
   "mimetype": "text/x-python",
   "name": "python",
   "nbconvert_exporter": "python",
   "pygments_lexer": "ipython3",
   "version": "3.7.8"
  }
 },
 "nbformat": 4,
 "nbformat_minor": 4
}
