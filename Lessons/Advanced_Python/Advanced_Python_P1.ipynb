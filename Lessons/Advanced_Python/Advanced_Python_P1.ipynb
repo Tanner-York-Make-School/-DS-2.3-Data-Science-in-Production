{
 "cells": [
  {
   "cell_type": "markdown",
   "metadata": {},
   "source": [
    "# Advanced Python P1"
   ]
  },
  {
   "cell_type": "markdown",
   "metadata": {},
   "source": [
    "## Generators\n",
    "- any function that uses a yeild statment is a genorator\n",
    "- each yeild statment temporarily suspends processing\n",
    "- Similar to a list but it doesn't store its info in memory "
   ]
  },
  {
   "cell_type": "code",
   "execution_count": 1,
   "metadata": {},
   "outputs": [
    {
     "name": "stdout",
     "output_type": "stream",
     "text": [
      "First Iteration\n",
      "1, 2, 3, 4\n",
      "DONE\n",
      "Second Iteration\n",
      "\n",
      "DONE\n"
     ]
    }
   ],
   "source": [
    "def genorator_example(lst):\n",
    "    s = 0\n",
    "    for i in lst:\n",
    "        s += 1\n",
    "        yield s\n",
    "\n",
    "gen = genorator_example([1, 2, 3, 4])\n",
    "\n",
    "# It prints all the elements in the list the first time\n",
    "print('First Iteration')\n",
    "print(', '.join([str(i) for i in gen]))\n",
    "print('DONE')\n",
    "\n",
    "# However, it can't print them out again because i didn't store\n",
    "# the items in memeory\n",
    "print('Second Iteration')\n",
    "print(', '.join([str(i) for i in gen]))\n",
    "print('DONE')"
   ]
  },
  {
   "cell_type": "markdown",
   "metadata": {},
   "source": [
    "### Activity: Use a geneorator to get the sum sqaured for numbers between 1 and 2,000,000,000"
   ]
  },
  {
   "cell_type": "code",
   "execution_count": 2,
   "metadata": {},
   "outputs": [],
   "source": [
    "def sum_squared(ls, n):\n",
    "    sum = 0\n",
    "    for _ in range(n):\n",
    "        sum += next(ls)\n",
    "        yield sum \n",
    "            \n",
    "n = 2000000000\n",
    "iterator_input = (i**2 for i in range(n + 1))\n",
    "gen = sum_squared(iterator_input, n + 1)"
   ]
  },
  {
   "cell_type": "markdown",
   "metadata": {},
   "source": [
    "## Class Specific Methods and Variables\n",
    "\n",
    " **Abstract Methods:** superclass methods without implementation that child methods need to implement to run and are good for writing modular code and preventing code repetition "
   ]
  },
  {
   "cell_type": "code",
   "execution_count": 3,
   "metadata": {},
   "outputs": [
    {
     "name": "stdout",
     "output_type": "stream",
     "text": [
      "3\n"
     ]
    }
   ],
   "source": [
    "from abc import ABC, abstractmethod\n",
    "\n",
    "class AbstractOperation(ABC):\n",
    "    def __init__(self):\n",
    "        pass\n",
    "    \n",
    "    @abstractmethod # This is how you create an abstract method \n",
    "    def exicute(self):\n",
    "        pass \n",
    "    \n",
    "class AddOperation(AbstractOperation):\n",
    "    # Because this classes supercase as an abstract method it has\n",
    "    # to implement is or an error will be thrown\n",
    "    def exicute(self, i, j):\n",
    "        return i + j\n",
    "\n",
    "add = AddOperation()\n",
    "print(add.exicute(1, 2))"
   ]
  },
  {
   "cell_type": "markdown",
   "metadata": {},
   "source": [
    "**Class Methods:** methods bound to the class (doesn't need the creation of the class to run) and can work with the class"
   ]
  },
  {
   "cell_type": "code",
   "execution_count": 4,
   "metadata": {},
   "outputs": [],
   "source": [
    "class ClassMethodExample():\n",
    "    def __init__(self):\n",
    "        pass\n",
    "    \n",
    "    @classmethod\n",
    "    def func(cls, args):\n",
    "        pass"
   ]
  },
  {
   "cell_type": "markdown",
   "metadata": {},
   "source": [
    "**Static Methods:** methods bound to the class like classmethod but can only deal with it's parameters and can't access class methods or variables so if there is a global variable x and a class variable x, then a static method with get the global x rather than the class variable x"
   ]
  },
  {
   "cell_type": "code",
   "execution_count": 5,
   "metadata": {},
   "outputs": [],
   "source": [
    "class StaticMethodExample():\n",
    "    def __init__(self):\n",
    "        pass\n",
    "    \n",
    "    @staticmethod\n",
    "    def func(args):\n",
    "        pass"
   ]
  },
  {
   "cell_type": "markdown",
   "metadata": {},
   "source": [
    "**Class Variables:** bound to the class (all instances of the class have the same variable and value"
   ]
  },
  {
   "cell_type": "code",
   "execution_count": 6,
   "metadata": {},
   "outputs": [],
   "source": [
    "class ClassVariableExample():\n",
    "    x = 20 # this is a class variable\n",
    "    def __init__(self):\n",
    "        pass"
   ]
  },
  {
   "cell_type": "markdown",
   "metadata": {},
   "source": [
    "## Decorators\n",
    "- functions that take in a function and return a modified function with added functionality\n",
    "- commonly used for function loggin and timming"
   ]
  },
  {
   "cell_type": "code",
   "execution_count": 7,
   "metadata": {},
   "outputs": [],
   "source": [
    "import time\n",
    "\n",
    "def time_it(func):\n",
    "    def wrapper(*args, **kwargs):\n",
    "        start = time.time()\n",
    "        result = func(*args, **kwargs)\n",
    "        end = time.time()\n",
    "        print(func.__name__+\" took \"+str(end-start)*1000)\n",
    "        return result\n",
    "    return wrapper"
   ]
  },
  {
   "cell_type": "markdown",
   "metadata": {},
   "source": [
    "**Memoization:** making algorithms faster by remembering already covered data"
   ]
  },
  {
   "cell_type": "code",
   "execution_count": 8,
   "metadata": {},
   "outputs": [],
   "source": [
    "def memoize(f):\n",
    "    memo = {}\n",
    "    def helper(x):\n",
    "        if x not in memo:            \n",
    "            memo[x] = f(x)\n",
    "            return memo[x]\n",
    "        else:\n",
    "            return memo[x]\n",
    "    return helper\n",
    "\n",
    "@memoize\n",
    "def fib(n):\n",
    "    if n == 0:\n",
    "        return 0\n",
    "    elif n == 1:\n",
    "        return 1\n",
    "    else:\n",
    "        return fib(n-1) + fib(n-2)"
   ]
  },
  {
   "cell_type": "code",
   "execution_count": 10,
   "metadata": {},
   "outputs": [
    {
     "data": {
      "text/plain": [
       "102334155"
      ]
     },
     "execution_count": 10,
     "metadata": {},
     "output_type": "execute_result"
    }
   ],
   "source": [
    "fib(40)"
   ]
  },
  {
   "cell_type": "code",
   "execution_count": null,
   "metadata": {},
   "outputs": [],
   "source": []
  }
 ],
 "metadata": {
  "kernelspec": {
   "display_name": "Python 3",
   "language": "python",
   "name": "python3"
  },
  "language_info": {
   "codemirror_mode": {
    "name": "ipython",
    "version": 3
   },
   "file_extension": ".py",
   "mimetype": "text/x-python",
   "name": "python",
   "nbconvert_exporter": "python",
   "pygments_lexer": "ipython3",
   "version": "3.7.8"
  }
 },
 "nbformat": 4,
 "nbformat_minor": 4
}
