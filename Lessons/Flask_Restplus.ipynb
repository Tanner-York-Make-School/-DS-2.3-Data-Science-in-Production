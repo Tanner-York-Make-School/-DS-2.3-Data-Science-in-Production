{
 "cells": [
  {
   "cell_type": "markdown",
   "metadata": {},
   "source": [
    "# Flask Restplus\n",
    "**Flask Resplus** is an extension to Flask that make using Flask as an REST API much easier <br>\n",
    "**Argparser** is a usefull python module for getting arguments from teh commands line "
   ]
  },
  {
   "cell_type": "markdown",
   "metadata": {},
   "source": [
    "## Activity: Make an API with a route that adds two number and a route that gets the sine of a number"
   ]
  },
  {
   "cell_type": "code",
   "execution_count": null,
   "metadata": {},
   "outputs": [],
   "source": [
    "import werkzeug\n",
    "werkzeug.cached_property = werkzeug.utils.cached_property\n",
    "from flask_restplus import Api, Resource, fields\n",
    "from flask import Flask, jsonify, request, make_response, abort, render_template, redirect, url_for\n",
    "\n",
    "app = Flask(__name__)\n",
    "api = Api(app, version='1.0', title='Math API', description='an API for performing various mathimatical operations')\n",
    "ns = api.namespace('Math_API', description='')\n",
    "\n",
    "addition_parser = api.parser()\n",
    "addition_parser.add_argument('n', type=int, required=True, help= 'First number in addition operation')\n",
    "addition_parser.add_argument('m', type=int, required=True, help= 'Second number in addition operation')\n",
    "\n",
    "sine_parser = api.parser()\n",
    "sine_parser.add_argument('n', type=int, required=True, help= 'Number to calculate the sine of')\n",
    "\n",
    "\n",
    "def summation(a, b):\n",
    "    return a+b\n",
    "\n",
    "@ns.route('/addition')\n",
    "class Addition(Resource):\n",
    "    \"\"\"Returns the sum of two numbers given from the request\"\"\"\n",
    "    @api.doc(parser=addition_parser, description='Enter two integers')\n",
    "    def get(self):\n",
    "        args = addition_parser.parse_args()\n",
    "        n1 = args.n\n",
    "        m1 = args.m\n",
    "        r = summation(n1, m1)\n",
    "        print(r)\n",
    "        return {'add': r}\n",
    "    \n",
    "@ns.route('/sine')\n",
    "class Sine(Resource):\n",
    "    \"\"\"Returns the sine of the number given from the request\"\"\"\n",
    "    @api.doc(parser=sine_parser, description='Enter a single integer')\n",
    "    def get(self):\n",
    "        args = sine_parser.parse_args()\n",
    "        n1 = args.n\n",
    "        r = sin(n1)\n",
    "        print(r)\n",
    "        return {'sine': r}\n",
    "\n",
    "\n",
    "if __name__ == '__main__':\n",
    "    app.run(host='0.0.0.0', port=3000)"
   ]
  },
  {
   "cell_type": "code",
   "execution_count": null,
   "metadata": {},
   "outputs": [],
   "source": []
  }
 ],
 "metadata": {
  "kernelspec": {
   "display_name": "Python 3",
   "language": "python",
   "name": "python3"
  },
  "language_info": {
   "codemirror_mode": {
    "name": "ipython",
    "version": 3
   },
   "file_extension": ".py",
   "mimetype": "text/x-python",
   "name": "python",
   "nbconvert_exporter": "python",
   "pygments_lexer": "ipython3",
   "version": "3.7.8"
  }
 },
 "nbformat": 4,
 "nbformat_minor": 4
}
